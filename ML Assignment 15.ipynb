{
 "cells": [
  {
   "cell_type": "code",
   "execution_count": null,
   "id": "c6088888-340a-4dc9-8c29-623a71e4171f",
   "metadata": {},
   "outputs": [],
   "source": [
    "#1. Recognize the differences between supervised, semi-supervised, and unsupervised learning ?\n",
    "\n",
    "Ans: The differences between supervised, semi-supervised, and unsupervised learning are:\n",
    "\n",
    "*Supervised learning aims to learn a function that, given a sample of data and desired outputs, approximates a function that maps inputs \n",
    "to outputs.\n",
    "\n",
    "*Semi-supervised learning aims to label unlabeled data points using knowledge learned from a small number of labeled data points.\n",
    "\n",
    "*Unsupervised learning does not have (or need) any labeled outputs, so its goal is to infer the natural structure present within a set of\n",
    "data points."
   ]
  },
  {
   "cell_type": "code",
   "execution_count": null,
   "id": "e13e2bd1-dccd-404b-bc11-a4dd9b0275d2",
   "metadata": {},
   "outputs": [],
   "source": [
    "#2. Describe in detail any five examples of classification problems ?\n",
    "\n",
    "Ans: 5 Examples of Classification Problems :\n",
    "\n",
    "*Logistic regression: Logistic regression is a supervised learning classification algorithm used to predict the probability of a target\n",
    "variable. ... It is one of the simplest ML algorithms that can be used for various classification problems such as spam detection, Diabetes \n",
    "prediction, cancer detection etc.\n",
    "\n",
    "*Decision trees: Decision Trees are a type of Supervised Machine Learning (that is you explain what the input is and what the corresponding \n",
    "                                                                           output is in the training data) where the data is continuously \n",
    "split according to a certain parameter. The tree can be explained by two entities, namely decision nodes and leaves.\n",
    "\n",
    "*Random forest: Random forest is a Supervised Machine Learning Algorithm that is used widely in Classification and Regression problems. \n",
    "It builds decision trees on different samples and takes their majority vote for classification and average in case of regression. \n",
    "It performs better results for classification problems.\n",
    "\n",
    "*XGBoost: XGBoost is an algorithm that has recently been dominating applied machine learning and Kaggle competitions for structured or \n",
    "tabular data. XGBoost is an implementation of gradient boosted decision trees designed for speed and performance.Why XGBoost must be a part\n",
    "of your machine learning toolkit.\n",
    "\n",
    "*Light GBM: Light Gradient Boosted Machine, or LightGBM for short, is an open-source library that provides an efficient and effective\n",
    "implementation of the gradient boosting algorithm."
   ]
  },
  {
   "cell_type": "code",
   "execution_count": null,
   "id": "86c01ab5-5e19-462c-ba2a-fe3c9a688833",
   "metadata": {},
   "outputs": [],
   "source": [
    "#3.  Describe each phase of the classification process in detail ?\n",
    "\n",
    "Ans: Process of classification consists of two phases :\n",
    "\n",
    "1.Construction of the classifier\n",
    "2.Usage of the classifier.\n",
    "\n",
    "A classifier in machine learning is an algorithm that automatically orders or categorizes data into one or more of a set of “classes.” One \n",
    "of the most common examples is an email classifier that scans emails to filter them by class label: Spam or Not Spam.\n",
    "\n",
    "The main goal of the Classification algorithm is to identify the category of a given dataset, and these algorithms are mainly used to\n",
    "predict the output for the categorical data. Multi-class Classifier: If a classification problem has more than two outcomes, then it is \n",
    "called as Multi-class Classifier."
   ]
  },
  {
   "cell_type": "code",
   "execution_count": null,
   "id": "085c5de6-5b25-4aa3-9b79-b9096b3dec62",
   "metadata": {},
   "outputs": [],
   "source": [
    "#4. Go through the SVM model in depth using various scenarios ?\n",
    "\n",
    "Ans: Support Vector Machine (SVM) is a supervised machine learning algorithm that can be used for both classification or regression \n",
    "challenges.\n",
    "\n",
    "Support Vectors are simply the coordinates of individual observation. The SVM classifier is a frontier that best segregates the two classes \n",
    "(hyper-plane/ line).\n",
    "\n",
    "SVM or Support Vector Machine is a linear model for classification and regression problems. It can solve linear and non-linear problems and \n",
    "work well for many practical problems. The idea of SVM is simple: The algorithm creates a line or a hyperplane which separates the data \n",
    "into classes."
   ]
  },
  {
   "cell_type": "code",
   "execution_count": null,
   "id": "35d5c9eb-873c-4aeb-92ee-933be2f06148",
   "metadata": {},
   "outputs": [],
   "source": [
    "#5. What are some of the benefits and drawbacks of SVM ?\n",
    "\n",
    "Ans: The following are some of the benefits and drawbacks of SVM:\n",
    "\n",
    "*Benefits:\n",
    "1.SVM works relatively well when there is a clear margin of separation between classes.\n",
    "2.SVM is more effective in high dimensional spaces.\n",
    "3.SVM is effective in cases where the number of dimensions is greater than the number of samples.\n",
    "4.SVM is relatively memory efficient.\n",
    "\n",
    "*Drawbacks:\n",
    "1.SVM algorithm is not suitable for large data sets.\n",
    "2.SVM does not perform very well when the data set has more noise i.e. target classes are overlapping.\n",
    "3.In cases where the number of features for each data point exceeds the number of training data samples,the SVM will underperform."
   ]
  },
  {
   "cell_type": "code",
   "execution_count": null,
   "id": "633d68c1-d511-4403-b5ba-3c4af66f3430",
   "metadata": {},
   "outputs": [],
   "source": [
    "#6. Go over the kNN model in depth ?\n",
    "\n",
    "Ans: kNN is the simplest machine learning algorithm to understand and also to explain. It is a versatile algorithm i.e. useful for both \n",
    "classification and regression. It has one big advantage is that kNN ha no pre assumption about the data. Let the data speak for itself.\n",
    "\n",
    "The abbreviation KNN stands for K-Nearest Neighbour. It is a supervised machine learning algorithm. The algorithm can be used to solve both \n",
    "classification and regression problem statements. The number of nearest neighbours to a new unknown variable that has to be predicted \n",
    "or classified is denoted by the symbol 'K'."
   ]
  },
  {
   "cell_type": "code",
   "execution_count": null,
   "id": "8d2a94c7-b4cc-4063-a17b-f363d5641945",
   "metadata": {},
   "outputs": [],
   "source": [
    "#7. Discuss the kNN algorithm's error rate and validation error ?\n",
    "\n",
    "Ans: Training error here is the error you'll have when you input your training set to your KNN as test set. Since your test sample is in \n",
    "the training dataset, it'll choose itself as the closest and never make mistake. For this reason, the training error will be zero \n",
    "when K = 1, irrespective of the dataset.\n",
    "\n",
    "kNN produces predictions by looking at the k nearest neighbours of a case x to predict its y, so that's fine. In particular, the kNN \n",
    "model basically consists of its training cases - but that's the cross validation procedure doesn't care about at all.\n"
   ]
  },
  {
   "cell_type": "code",
   "execution_count": null,
   "id": "10f8552a-9587-4066-8116-73f274addfdb",
   "metadata": {},
   "outputs": [],
   "source": [
    "#8. For kNN, talk about how to measure the difference between the test and training results ?\n",
    "\n",
    "Ans: KNN can be used for classification — the output is a class membership (predicts a class — a discrete value). An object is classified\n",
    "by a majority vote of its neighbors, with the object being assigned to the class most common among its k nearest neighbors.\n",
    "\n",
    "KNN classifier does not have any specialized training phase as it uses all the training samples for classification and simply stores the \n",
    "results in memory. KNN is a non-parametric algorithm because it does not assume anything about the training data. This makes it useful for\n",
    "problems having non-linear data."
   ]
  },
  {
   "cell_type": "code",
   "execution_count": null,
   "id": "4c34f103-7110-4747-9bdf-915ef8d06406",
   "metadata": {},
   "outputs": [],
   "source": [
    "#9. Create the kNN algorithm ?\n",
    "\n",
    "Ans: The k-nearest neighbor algorithm is imported from the scikit-learn package.\n",
    "\n",
    "*Create feature and target variables.\n",
    "*Split data into training and test data.\n",
    "*Generate a k-NN model using neighbors value.\n",
    "*Train or fit the data into the model.\n",
    "*Predict the future."
   ]
  },
  {
   "cell_type": "code",
   "execution_count": null,
   "id": "f6cde711-07ea-41ed-9aa2-4d0e4e2addd8",
   "metadata": {},
   "outputs": [],
   "source": [
    "#10. What is a decision tree, exactly ? What are the various kinds of nodes? Explain all in depth ?\n",
    "\n",
    "Ans: A decision tree is a tree-like model that acts as a decision support tool, visually displaying decisions and their potential outcomes, \n",
    "nsequences, and costs. Drawing a decision tree diagram starts from left to right and consists of burst nodes that split into different paths.\n",
    "\n",
    "There are three different types of nodes: chance nodes, decision nodes, and end nodes. A chance node, represented by a circle, shows the\n",
    "probabilities of certain results. A decision node, represented by a square, shows a decision to be made, and an end node shows the final \n",
    "outcome of a decision path."
   ]
  },
  {
   "cell_type": "code",
   "execution_count": null,
   "id": "f9280525-4a5a-4025-8927-789c305c927d",
   "metadata": {},
   "outputs": [],
   "source": [
    "#11. Describe the different ways to scan a decision tree ?\n",
    "\n",
    "Ans: In a decision tree analysis, the decision-maker has usually to proceed through the following six steps:\n",
    "\n",
    "*Define the problem in structured terms.\n",
    "*Model the decision process.\n",
    "*Apply the appropriate probability values and financial data.\n",
    "*Solve the decision tree.\n",
    "*Perform sensitivity analysis."
   ]
  },
  {
   "cell_type": "code",
   "execution_count": null,
   "id": "b95c1e1d-3c55-4b8d-a501-bbb17ed49398",
   "metadata": {},
   "outputs": [],
   "source": [
    "#12. Describe in depth the decision tree algorithm ?\n",
    "\n",
    "Ans: Decision Tree algorithm belongs to the family of supervised learning algorithms. The goal of using a Decision Tree is to create a \n",
    "training model that can use to predict the class or value of the target variable by learning simple decision rules inferred from prior \n",
    "data(training data)."
   ]
  },
  {
   "cell_type": "code",
   "execution_count": null,
   "id": "0d94d16d-9be9-4e01-b814-568c9a4decb3",
   "metadata": {},
   "outputs": [],
   "source": [
    "#13.  In a decision tree, what is inductive bias? What would you do to stop overfitting ?\n",
    "\n",
    "Ans: The inductive bias (also known as learning bias) of a learning algorithm is the set of assumptions that the learner uses to predict \n",
    "outputs of given inputs that it has not encountered. The kind of necessary assumptions about the nature of the target function are subsumed\n",
    "in the phrase inductive bias.\n",
    "\n",
    "Overfitting makes the model relevant to its data set only, and irrelevant to any other data sets. Some of the methods used to prevent \n",
    "overfitting include ensembling, data augmentation, data simplification, and cross-validation."
   ]
  },
  {
   "cell_type": "code",
   "execution_count": null,
   "id": "1feafdec-f184-44d5-89b9-ef74b6c8ea92",
   "metadata": {},
   "outputs": [],
   "source": [
    "#14. Explain advantages and disadvantages of using a decision tree ?\n",
    "\n",
    "Ans: Advantages and Disadvantages of Decision Trees in Machine Learning. Decision Tree is used to solve both classification and regression \n",
    "problems. But the main drawback of Decision Tree is that it generally leads to overfitting of the data."
   ]
  },
  {
   "cell_type": "code",
   "execution_count": null,
   "id": "775e1947-ad0b-4db0-ac61-f766fc174e18",
   "metadata": {},
   "outputs": [],
   "source": [
    "#15.  Describe in depth the problems that are suitable for decision tree learning ?\n",
    "\n",
    "Ans: Appropriate Problems for Decision Tree Learning are: Instances are represented by attribute-value pairs. The target function has \n",
    "discrete output values.\n",
    "\n",
    "*Disjunctive descriptions may be required.\n",
    "*The training data may contain errors.\n",
    "*The training data may contain missing attribute values."
   ]
  },
  {
   "cell_type": "code",
   "execution_count": null,
   "id": "6bd2a674-d9fe-49d6-a9ff-1a75fe2191cf",
   "metadata": {},
   "outputs": [],
   "source": [
    "#16. Describe in depth the random forest model. What distinguishes a random forest ?\n",
    "\n",
    "Ans: The random forest is a classification algorithm consisting of many decisions trees. It uses bagging and feature randomness when \n",
    "building each individual tree to try to create an uncorrelated forest of trees whose prediction by committee is more accurate than that of \n",
    "any individual tree. The fundamental difference is that in Random forests, only a subset of features are selected at random out of the \n",
    "total and the best split feature from the subset is used to split each node in a tree, unlike in bagging where all features are considered \n",
    "for splitting a node."
   ]
  },
  {
   "cell_type": "code",
   "execution_count": null,
   "id": "bbaaed1c-ccd4-4ee6-9680-7fec7d56e074",
   "metadata": {},
   "outputs": [],
   "source": [
    "#17. In a random forest, talk about OOB error and variable value ?\n",
    "\n",
    "Ans: The out-of-bag (OOB) error is the average error for each calculated using predictions from the trees that do not contain in their \n",
    "respective bootstrap sample. There are two measures of importance given for each variable in the random forest. The first measure is based\n",
    "on how much the accuracy decreases when the variable is excluded.The second measure is based on the decrease of Gini impurity when a \n",
    "variable is chosen to split a node."
   ]
  }
 ],
 "metadata": {
  "kernelspec": {
   "display_name": "Python 3 (ipykernel)",
   "language": "python",
   "name": "python3"
  },
  "language_info": {
   "codemirror_mode": {
    "name": "ipython",
    "version": 3
   },
   "file_extension": ".py",
   "mimetype": "text/x-python",
   "name": "python",
   "nbconvert_exporter": "python",
   "pygments_lexer": "ipython3",
   "version": "3.10.6"
  }
 },
 "nbformat": 4,
 "nbformat_minor": 5
}
